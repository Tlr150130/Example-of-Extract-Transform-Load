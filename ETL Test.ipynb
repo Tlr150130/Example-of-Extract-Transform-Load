{
 "cells": [
  {
   "cell_type": "markdown",
   "id": "f70eb33e-84dd-4f9c-8cb8-3e75bba792df",
   "metadata": {},
   "source": [
    "# Test of ETL Functions"
   ]
  },
  {
   "cell_type": "code",
   "execution_count": 1,
   "id": "bac47a65-be45-4c5f-b6ce-ef89e7c852a4",
   "metadata": {},
   "outputs": [],
   "source": [
    "# Libraries\n",
    "import sys\n",
    "\n",
    "# Augment directory\n",
    "sys.path.insert(0, \"./helper_files\")\n",
    "\n",
    "# import helper files\n",
    "from etl_helper import ETL"
   ]
  },
  {
   "cell_type": "code",
   "execution_count": 2,
   "id": "f299224b-4e66-4164-9288-ae422fad4b69",
   "metadata": {},
   "outputs": [],
   "source": [
    "# get data\n",
    "ETL()"
   ]
  },
  {
   "cell_type": "code",
   "execution_count": null,
   "id": "85ef0f62-e2f0-4aca-9f91-97555ab2bc24",
   "metadata": {},
   "outputs": [],
   "source": [
    "# works"
   ]
  }
 ],
 "metadata": {
  "kernelspec": {
   "display_name": "Python 3",
   "language": "python",
   "name": "python3"
  },
  "language_info": {
   "codemirror_mode": {
    "name": "ipython",
    "version": 3
   },
   "file_extension": ".py",
   "mimetype": "text/x-python",
   "name": "python",
   "nbconvert_exporter": "python",
   "pygments_lexer": "ipython3",
   "version": "3.8.8"
  }
 },
 "nbformat": 4,
 "nbformat_minor": 5
}
