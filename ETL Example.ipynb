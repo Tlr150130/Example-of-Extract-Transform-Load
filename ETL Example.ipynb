{
 "cells": [
  {
   "cell_type": "markdown",
   "id": "ee735b7b-36cd-4456-90c5-1b0c8ce55ea5",
   "metadata": {},
   "source": [
    "# Extract, Transform, Load Example"
   ]
  },
  {
   "cell_type": "code",
   "execution_count": 1,
   "id": "8c94caf0-ecc0-4c0d-8aed-626868862880",
   "metadata": {},
   "outputs": [],
   "source": [
    "# Author information\n",
    "__author__ = \"Troy Reynolds\"\n",
    "__email__ = \"Troy.Lloyd.Reynolds@gmail.com\""
   ]
  },
  {
   "cell_type": "code",
   "execution_count": 10,
   "id": "680521c0-af05-4533-bdd1-44c8ddc9960f",
   "metadata": {},
   "outputs": [],
   "source": [
    "# Libraries\n",
    "# libraries\n",
    "import pandas as pd\n",
    "import glob\n",
    "import xml.etree.ElementTree as ET\n",
    "from datetime import datetime\n",
    "import urllib.request\n",
    "import sys\n",
    "import os\n",
    "import zipfile\n",
    "\n",
    "# Extend the directory to get created functions\n",
    "sys.path.insert(0, \"./helper_files\")\n",
    "\n",
    "# import helper files\n",
    "from etl_helper import\n",
    "    "
   ]
  },
  {
   "cell_type": "markdown",
   "id": "5082353a-c589-470b-bca7-a8b6bcf37953",
   "metadata": {},
   "source": [
    "## Get the data"
   ]
  },
  {
   "cell_type": "code",
   "execution_count": 6,
   "id": "26ea3ab0-4552-4c6d-bda6-4d7ef51c5b48",
   "metadata": {},
   "outputs": [
    {
     "data": {
      "text/plain": [
       "('datasource.zip', <http.client.HTTPMessage at 0x23318f230d0>)"
      ]
     },
     "execution_count": 6,
     "metadata": {},
     "output_type": "execute_result"
    }
   ],
   "source": [
    "# use urllib.request to download the file instead of !wget\n",
    "url = 'https://cf-courses-data.s3.us.cloud-object-storage.appdomain.cloud/IBMDeveloperSkillsNetwork-PY0221EN-SkillsNetwork/labs/module%206/Lab%20-%20Extract%20Transform%20Load/data/datasource.zip'\n",
    "filename = 'datasource.zip'\n",
    "urllib.request.urlretrieve(url, filename)"
   ]
  },
  {
   "cell_type": "code",
   "execution_count": 14,
   "id": "b4150713-aa6b-44d5-a1e4-d2ad696c163a",
   "metadata": {},
   "outputs": [],
   "source": [
    "# path varibles\n",
    "path_to_zip_file = os.path.join(\".\", 'datasource.zip')\n",
    "data_path = os.path.join(\".\", \"data_source_files\")\n",
    "\n",
    "# unzip the file\n",
    "if not os.path.exists(newpath):\n",
    "    # Create a folder to hold data\n",
    "    os.makedirs(newpath)\n",
    "    \n",
    "    # unzip files\n",
    "    with zipfile.ZipFile(path_to_zip_file, 'r') as zip_ref:\n",
    "        zip_ref.extractall(data_path)"
   ]
  },
  {
   "cell_type": "code",
   "execution_count": 15,
   "id": "f369cd73-b0c4-45c0-8af1-d2589ec1b9e8",
   "metadata": {},
   "outputs": [],
   "source": [
    "# set paths for target files\n",
    "tmpfile = \"dealership_temp.tmp\"                # extracted data\n",
    "logfile = \"dealership_logfile.txt\"             # event logs\n",
    "targetfile = \"dealership_transformed_data.csv\" # transformed data"
   ]
  },
  {
   "cell_type": "markdown",
   "id": "4a734901-3c49-481d-bc45-601b6961f713",
   "metadata": {},
   "source": [
    "## Extract"
   ]
  },
  {
   "cell_type": "code",
   "execution_count": 21,
   "id": "0b8d302a-12d4-46b4-84ae-65e8c864b8c9",
   "metadata": {},
   "outputs": [],
   "source": [
    "# Extraction Functions\n",
    "def extract_from_csv(file_to_process):\n",
    "    df = pd.read_csv(file_to_process)\n",
    "    return df\n",
    "\n",
    "def extract_from_json(file_to_process):\n",
    "    df = pd.read_json(\n",
    "        file_to_process,\n",
    "        lines = True\n",
    "    )\n",
    "    return df\n",
    "\n",
    "def extract_from_xml(file_to_process):\n",
    "    df = pd.DataFrame(\n",
    "        columns = [\"car_model\", \"year_of_manufacture\", \"price\", \"fuel\"]\n",
    "    )\n",
    "    tree = ET.parse(file_to_process)\n",
    "    root = tree.getroot()\n",
    "    \n",
    "    # extract from root\n",
    "    for obs in root: # obs = observation\n",
    "        # get data for each feature\n",
    "        car_model = obs.find(\"car_model\").text\n",
    "        year_of_manufacture = int(obs.find(\"year_of_manufacture\").text)\n",
    "        price = float(obs.find(\"price\").text)\n",
    "        fuel = obs.find(\"fuel\").text\n",
    "        \n",
    "        # append each observation top teh dataframe\n",
    "        obs_data = {\n",
    "            \"car_model\": car_model,\n",
    "            \"year_of_manufacture\": year_of_manufacture,\n",
    "            \"price\": price,\n",
    "            \"fuel\": fuel\n",
    "        }\n",
    "        df = df.append(obs_data, ignore_index = True)\n",
    "    return df"
   ]
  },
  {
   "cell_type": "code",
   "execution_count": 26,
   "id": "bd48f5a2-f144-4891-aae5-57612a7f28e9",
   "metadata": {},
   "outputs": [],
   "source": [
    "# combine csv, json, xml into one extract function\n",
    "# NOTE: glob allows function to select all files of single data type\n",
    "def extract():\n",
    "    # single dataframe to hold all data\n",
    "    extracted_data = pd.DataFrame(\n",
    "        columns = [\"car_model\", \"year_of_manufacture\", \"price\", \"fuel\"]\n",
    "    )\n",
    "    \n",
    "    # for csv files\n",
    "    for csvfile in glob.glob(os.path.join(data_path, \"*.csv\")):\n",
    "        extracted_data = extracted_data.append(extract_from_csv(csvfile))\n",
    "        \n",
    "    # for json files\n",
    "    for jsonfile in glob.glob(os.path.join(data_path, \"*.json\")):\n",
    "        extracted_data = extracted_data.append(extract_from_json(jsonfile))\n",
    "    \n",
    "    \n",
    "    # for xml files\n",
    "    for xmlfile in glob.glob(os.path.join(data_path, \"*.xml\")):\n",
    "        extracted_data = extracted_data.append(extract_from_xml(xmlfile))\n",
    "    return extracted_data"
   ]
  },
  {
   "cell_type": "code",
   "execution_count": 27,
   "id": "6e089a07-b8a3-466c-95f1-6d804b764fb4",
   "metadata": {},
   "outputs": [
    {
     "data": {
      "text/html": [
       "<div>\n",
       "<style scoped>\n",
       "    .dataframe tbody tr th:only-of-type {\n",
       "        vertical-align: middle;\n",
       "    }\n",
       "\n",
       "    .dataframe tbody tr th {\n",
       "        vertical-align: top;\n",
       "    }\n",
       "\n",
       "    .dataframe thead th {\n",
       "        text-align: right;\n",
       "    }\n",
       "</style>\n",
       "<table border=\"1\" class=\"dataframe\">\n",
       "  <thead>\n",
       "    <tr style=\"text-align: right;\">\n",
       "      <th></th>\n",
       "      <th>car_model</th>\n",
       "      <th>year_of_manufacture</th>\n",
       "      <th>price</th>\n",
       "      <th>fuel</th>\n",
       "    </tr>\n",
       "  </thead>\n",
       "  <tbody>\n",
       "    <tr>\n",
       "      <th>0</th>\n",
       "      <td>ritz</td>\n",
       "      <td>2014</td>\n",
       "      <td>5000.000000</td>\n",
       "      <td>Petrol</td>\n",
       "    </tr>\n",
       "    <tr>\n",
       "      <th>1</th>\n",
       "      <td>sx4</td>\n",
       "      <td>2013</td>\n",
       "      <td>7089.552239</td>\n",
       "      <td>Diesel</td>\n",
       "    </tr>\n",
       "    <tr>\n",
       "      <th>2</th>\n",
       "      <td>ciaz</td>\n",
       "      <td>2017</td>\n",
       "      <td>10820.895522</td>\n",
       "      <td>Petrol</td>\n",
       "    </tr>\n",
       "    <tr>\n",
       "      <th>3</th>\n",
       "      <td>wagon r</td>\n",
       "      <td>2011</td>\n",
       "      <td>4253.731343</td>\n",
       "      <td>Petrol</td>\n",
       "    </tr>\n",
       "    <tr>\n",
       "      <th>4</th>\n",
       "      <td>swift</td>\n",
       "      <td>2014</td>\n",
       "      <td>6865.671642</td>\n",
       "      <td>Diesel</td>\n",
       "    </tr>\n",
       "    <tr>\n",
       "      <th>...</th>\n",
       "      <td>...</td>\n",
       "      <td>...</td>\n",
       "      <td>...</td>\n",
       "      <td>...</td>\n",
       "    </tr>\n",
       "    <tr>\n",
       "      <th>5</th>\n",
       "      <td>camry</td>\n",
       "      <td>2006</td>\n",
       "      <td>3731.343284</td>\n",
       "      <td>Petrol</td>\n",
       "    </tr>\n",
       "    <tr>\n",
       "      <th>6</th>\n",
       "      <td>land cruiser</td>\n",
       "      <td>2010</td>\n",
       "      <td>52238.805970</td>\n",
       "      <td>Diesel</td>\n",
       "    </tr>\n",
       "    <tr>\n",
       "      <th>7</th>\n",
       "      <td>corolla altis</td>\n",
       "      <td>2012</td>\n",
       "      <td>8805.970149</td>\n",
       "      <td>Petrol</td>\n",
       "    </tr>\n",
       "    <tr>\n",
       "      <th>8</th>\n",
       "      <td>etios liva</td>\n",
       "      <td>2013</td>\n",
       "      <td>5149.253731</td>\n",
       "      <td>Petrol</td>\n",
       "    </tr>\n",
       "    <tr>\n",
       "      <th>9</th>\n",
       "      <td>etios g</td>\n",
       "      <td>2014</td>\n",
       "      <td>7089.552239</td>\n",
       "      <td>Petrol</td>\n",
       "    </tr>\n",
       "  </tbody>\n",
       "</table>\n",
       "<p>90 rows × 4 columns</p>\n",
       "</div>"
      ],
      "text/plain": [
       "        car_model year_of_manufacture         price    fuel\n",
       "0            ritz                2014   5000.000000  Petrol\n",
       "1             sx4                2013   7089.552239  Diesel\n",
       "2            ciaz                2017  10820.895522  Petrol\n",
       "3         wagon r                2011   4253.731343  Petrol\n",
       "4           swift                2014   6865.671642  Diesel\n",
       "..            ...                 ...           ...     ...\n",
       "5           camry                2006   3731.343284  Petrol\n",
       "6    land cruiser                2010  52238.805970  Diesel\n",
       "7   corolla altis                2012   8805.970149  Petrol\n",
       "8      etios liva                2013   5149.253731  Petrol\n",
       "9         etios g                2014   7089.552239  Petrol\n",
       "\n",
       "[90 rows x 4 columns]"
      ]
     },
     "execution_count": 27,
     "metadata": {},
     "output_type": "execute_result"
    }
   ],
   "source": [
    "extract()"
   ]
  },
  {
   "cell_type": "markdown",
   "id": "64d820f4-12ae-4511-9f4b-0e5ab85c217c",
   "metadata": {},
   "source": [
    "## Transform"
   ]
  },
  {
   "cell_type": "code",
   "execution_count": 28,
   "id": "4faaaf46-4bff-4dff-abba-cba358dd67e5",
   "metadata": {},
   "outputs": [],
   "source": [
    "# transform the variables to the desired format\n",
    "def transform(data):\n",
    "    data[\"price\"] = round(data.price, 2)\n",
    "    return data"
   ]
  },
  {
   "cell_type": "markdown",
   "id": "152ea4d9-ee0d-4e75-ba43-4cfdea3d6c9b",
   "metadata": {},
   "source": [
    "## Load"
   ]
  },
  {
   "cell_type": "code",
   "execution_count": 29,
   "id": "cb1dff05-9f8d-44a4-94c2-0b98ac1863f2",
   "metadata": {},
   "outputs": [],
   "source": [
    "# load function\n",
    "def load(targetfile, data_to_load):\n",
    "    data_to_load.to_csv(targetfile)"
   ]
  },
  {
   "cell_type": "code",
   "execution_count": 31,
   "id": "d6f89bde-be58-418b-b220-e567df776d8f",
   "metadata": {},
   "outputs": [],
   "source": [
    "## Log Creation"
   ]
  },
  {
   "cell_type": "code",
   "execution_count": 38,
   "id": "2dd8f122-bd17-4c43-af17-6d88a6514040",
   "metadata": {},
   "outputs": [],
   "source": [
    "# log function\n",
    "def log(message):\n",
    "    # Hour-Minute-Second_MonthName-Day-Year\n",
    "    timestamp_format = '%H:%M:%S-%h-%d-%Y'\n",
    "    \n",
    "    # get current timestamp\n",
    "    now = datetime.now()\n",
    "    \n",
    "    timestamp = now.strftime(timestamp_format)\n",
    "    \n",
    "    # create the log file if not exist and append\n",
    "    # note \"a\": append\n",
    "    with open(\"dealership_logfile.txt\", \"a\") as f: f.write(timestamp + ',' + message + '\\n')"
   ]
  },
  {
   "cell_type": "code",
   "execution_count": 31,
   "id": "7f5b97df-b9c4-469e-b631-f4aac40b996d",
   "metadata": {},
   "outputs": [],
   "source": [
    "# log start\n",
    "log(\"ETL Job Started\")"
   ]
  },
  {
   "cell_type": "code",
   "execution_count": 32,
   "id": "624b6b13-3398-4cf2-9bc0-30f3e0ed7d42",
   "metadata": {},
   "outputs": [],
   "source": [
    "# log extract step\n",
    "log(\"Extract Phase Started\")\n",
    "extracted_data = extract()\n",
    "log(\"Extract Phase Ended\")"
   ]
  },
  {
   "cell_type": "code",
   "execution_count": 33,
   "id": "45b7873f-f146-4b47-b924-355006ab4f43",
   "metadata": {},
   "outputs": [],
   "source": [
    "# log Transform Phase\n",
    "log(\"Transformation Phase Started\")\n",
    "transformed_data = transform(extracted_data)\n",
    "log(\"Transform Phase Ended\")"
   ]
  },
  {
   "cell_type": "code",
   "execution_count": 34,
   "id": "d30c63f5-4caf-4514-bbfe-dd6e1762f2d4",
   "metadata": {},
   "outputs": [],
   "source": [
    "# Log Load Phase\n",
    "log(\"Load Phase Started\")\n",
    "load(targetfile, transformed_data)\n",
    "log(\"Load Phase Ended\")"
   ]
  },
  {
   "cell_type": "code",
   "execution_count": 35,
   "id": "a0e15dd6-bbc0-4492-9786-79ea40a95d3b",
   "metadata": {},
   "outputs": [],
   "source": [
    "# Log ETL Job Ended\n",
    "log(\"ETL Job Ended\")"
   ]
  },
  {
   "cell_type": "code",
   "execution_count": 39,
   "id": "350ed085-a600-47d2-9882-4b279317c038",
   "metadata": {},
   "outputs": [],
   "source": [
    "## ETL Full Function\n",
    "def ETL():\n",
    "    # set paths for target files\n",
    "    tmpfile = \"dealership_temp.tmp\"                # extracted data\n",
    "    logfile = \"dealership_logfile.txt\"             # event logs\n",
    "    targetfile = \"dealership_transformed_data.csv\" # transformed data\n",
    "    \n",
    "    # Begin ETL\n",
    "    log(\"ETL Job Started\")\n",
    "    \n",
    "    # Extract\n",
    "    log(\"Extract Phase Started\")\n",
    "    extracted_data = extract()\n",
    "    log(\"Extract Phase Ended\")\n",
    "    \n",
    "    # Transform\n",
    "    log(\"Transformation Phase Started\")\n",
    "    transformed_data = transform(extracted_data)\n",
    "    log(\"Transform Phase Ended\")    \n",
    "    \n",
    "    # Load\n",
    "    log(\"Load Phase Started\")\n",
    "    load(targetfile, transformed_data)\n",
    "    log(\"Load Phase Ended\")\n",
    "    \n",
    "    # Finish ETL\n",
    "    log(\"ETL Job Ended\")"
   ]
  },
  {
   "cell_type": "code",
   "execution_count": 40,
   "id": "bf31f4da-3061-4ab4-9f91-2efd784d69ae",
   "metadata": {},
   "outputs": [],
   "source": [
    "# main\n",
    "ETL()"
   ]
  },
  {
   "cell_type": "code",
   "execution_count": null,
   "id": "70cdbe54-a69d-43eb-a9bc-b763962e766c",
   "metadata": {},
   "outputs": [],
   "source": []
  }
 ],
 "metadata": {
  "kernelspec": {
   "display_name": "Python 3",
   "language": "python",
   "name": "python3"
  },
  "language_info": {
   "codemirror_mode": {
    "name": "ipython",
    "version": 3
   },
   "file_extension": ".py",
   "mimetype": "text/x-python",
   "name": "python",
   "nbconvert_exporter": "python",
   "pygments_lexer": "ipython3",
   "version": "3.8.8"
  }
 },
 "nbformat": 4,
 "nbformat_minor": 5
}
